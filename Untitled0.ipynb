{
 "metadata": {
  "name": "",
  "signature": "sha256:b6f8cfedb74f5924f1274b6cbe9b4012adfc92a8e1da0034cbc1c50cd8a63bea"
 },
 "nbformat": 3,
 "nbformat_minor": 0,
 "worksheets": [
  {
   "cells": [
    {
     "cell_type": "code",
     "collapsed": false,
     "input": [
      "import pandas as pd\n",
      "y = pd.date_range('2015-01-15','2015-06-30',freq='M').to_period()\n",
      "list(y)"
     ],
     "language": "python",
     "metadata": {},
     "outputs": [
      {
       "metadata": {},
       "output_type": "pyout",
       "prompt_number": 16,
       "text": [
        "[Period('2015-01', 'M'),\n",
        " Period('2015-02', 'M'),\n",
        " Period('2015-03', 'M'),\n",
        " Period('2015-04', 'M'),\n",
        " Period('2015-05', 'M'),\n",
        " Period('2015-06', 'M')]"
       ]
      }
     ],
     "prompt_number": 16
    },
    {
     "cell_type": "code",
     "collapsed": false,
     "input": [],
     "language": "python",
     "metadata": {},
     "outputs": [],
     "prompt_number": 15
    },
    {
     "cell_type": "code",
     "collapsed": false,
     "input": [],
     "language": "python",
     "metadata": {},
     "outputs": []
    }
   ],
   "metadata": {}
  }
 ]
}