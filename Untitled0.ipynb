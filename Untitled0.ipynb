{
 "metadata": {
  "name": "",
  "signature": "sha256:ec1ac24d29c33889c58328ea3db5f30b2cd4a476158f245cb1c5aa8f2d3e13c6"
 },
 "nbformat": 3,
 "nbformat_minor": 0,
 "worksheets": [
  {
   "cells": [
    {
     "cell_type": "code",
     "collapsed": false,
     "input": [
      "%run main.py\n",
      "test"
     ],
     "language": "python",
     "metadata": {},
     "outputs": [
      {
       "metadata": {},
       "output_type": "pyout",
       "prompt_number": 1,
       "text": [
        "<asset.WindPowerPlant instance at 0x1058e86c8>"
       ]
      }
     ],
     "prompt_number": 1
    },
    {
     "cell_type": "code",
     "collapsed": false,
     "input": [
      "test.ops.dtypes"
     ],
     "language": "python",
     "metadata": {},
     "outputs": [
      {
       "metadata": {},
       "output_type": "pyout",
       "prompt_number": 5,
       "text": [
        "timespan      timedelta64[ns]\n",
        "production             object\n",
        "dtype: object"
       ]
      }
     ],
     "prompt_number": 5
    },
    {
     "cell_type": "code",
     "collapsed": false,
     "input": [
      "test.ops.timespan\n"
     ],
     "language": "python",
     "metadata": {},
     "outputs": [
      {
       "metadata": {},
       "output_type": "pyout",
       "prompt_number": 6,
       "text": [
        "2017-01-27       NaT\n",
        "2017-03-31   63 days\n",
        "2017-06-30   91 days\n",
        "2017-09-30   92 days\n",
        "2017-12-31   92 days\n",
        "2018-03-31   90 days\n",
        "2018-06-30   91 days\n",
        "2018-09-30   92 days\n",
        "2018-12-31   92 days\n",
        "2019-03-31   90 days\n",
        "2019-06-30   91 days\n",
        "2019-09-30   92 days\n",
        "2019-12-31   92 days\n",
        "2020-03-31   91 days\n",
        "2020-06-30   91 days\n",
        "...\n",
        "2031-09-30   92 days\n",
        "2031-12-31   92 days\n",
        "2032-03-31   91 days\n",
        "2032-06-30   91 days\n",
        "2032-09-30   92 days\n",
        "2032-12-31   92 days\n",
        "2033-03-31   90 days\n",
        "2033-06-30   91 days\n",
        "2033-09-30   92 days\n",
        "2033-12-31   92 days\n",
        "2034-03-31   90 days\n",
        "2034-06-30   91 days\n",
        "2034-09-30   92 days\n",
        "2034-12-31   92 days\n",
        "2035-01-27   27 days\n",
        "Name: timespan, Length: 74"
       ]
      }
     ],
     "prompt_number": 6
    },
    {
     "cell_type": "code",
     "collapsed": false,
     "input": [],
     "language": "python",
     "metadata": {},
     "outputs": []
    },
    {
     "cell_type": "code",
     "collapsed": false,
     "input": [],
     "language": "python",
     "metadata": {},
     "outputs": []
    }
   ],
   "metadata": {}
  }
 ]
}