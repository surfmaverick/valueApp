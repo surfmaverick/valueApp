{
 "metadata": {
  "name": "",
  "signature": "sha256:6119980c18eb87eb028d44b6c8c42fbc80c70453a40e59983d71072fcda7fef0"
 },
 "nbformat": 3,
 "nbformat_minor": 0,
 "worksheets": [
  {
   "cells": [
    {
     "cell_type": "code",
     "collapsed": false,
     "input": [
      "%run main.py\n",
      "test"
     ],
     "language": "python",
     "metadata": {},
     "outputs": [
      {
       "metadata": {},
       "output_type": "pyout",
       "prompt_number": 7,
       "text": [
        "<asset.WindPowerPlant instance at 0x10472f8c0>"
       ]
      }
     ],
     "prompt_number": 7
    },
    {
     "cell_type": "code",
     "collapsed": false,
     "input": [
      "p = {12: 34450, 11: 23424, 10: 22424, 9: 24343, 8: 23423, 7: 11433, 6: 23432, 5: 23535, 4: 19191, 3: 23432,\n",
      "    2: 23423, 1: 23423}\n",
      "emo = 6"
     ],
     "language": "python",
     "metadata": {},
     "outputs": [],
     "prompt_number": 79
    },
    {
     "cell_type": "code",
     "collapsed": false,
     "input": [
      "results = {1:0,2:0,3:0,4:0}\n",
      "\n",
      "for g,v in p.items():\n",
      "    if (g < 1 + emo) and (g > 0 + emo - 3):\n",
      "        results[1] = results[1] + v\n",
      "        print(g,v)\n",
      "    if (g < 4 + emo) and (g > 3 + emo - 3):\n",
      "        results[2] = results[2] + v\n",
      "     \n",
      "    if (g < 7 + emo) and (g > 6 + emo - 3):  \n",
      "        results[3] = results[3] + v\n",
      "     \n",
      "    if (g < 10 + emo) and (g > 9 + emo - 3):\n",
      "        results[4] = results[4] + v\n",
      "        \n",
      "        "
     ],
     "language": "python",
     "metadata": {},
     "outputs": [
      {
       "output_type": "stream",
       "stream": "stdout",
       "text": [
        "(4, 19191)\n",
        "(5, 23535)\n",
        "(6, 23432)\n"
       ]
      }
     ],
     "prompt_number": 82
    },
    {
     "cell_type": "code",
     "collapsed": false,
     "input": [],
     "language": "python",
     "metadata": {},
     "outputs": []
    },
    {
     "cell_type": "code",
     "collapsed": false,
     "input": [],
     "language": "python",
     "metadata": {},
     "outputs": []
    },
    {
     "cell_type": "code",
     "collapsed": false,
     "input": [
      "\n"
     ],
     "language": "python",
     "metadata": {},
     "outputs": []
    },
    {
     "cell_type": "code",
     "collapsed": false,
     "input": [],
     "language": "python",
     "metadata": {},
     "outputs": []
    },
    {
     "cell_type": "code",
     "collapsed": false,
     "input": [],
     "language": "python",
     "metadata": {},
     "outputs": []
    }
   ],
   "metadata": {}
  }
 ]
}